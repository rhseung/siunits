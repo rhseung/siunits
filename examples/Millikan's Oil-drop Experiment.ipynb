{
 "cells": [
  {
   "cell_type": "code",
   "execution_count": 1,
   "metadata": {
    "ExecuteTime": {
     "end_time": "2024-07-31T16:30:14.619720Z",
     "start_time": "2024-07-31T16:30:14.316006Z"
    }
   },
   "outputs": [
    {
     "name": "stderr",
     "output_type": "stream",
     "text": [
      "d:\\Repo\\siunits\\.venv\\Lib\\site-packages\\IPython\\core\\magics\\osm.py:417: UserWarning: This is now an optional IPython functionality, setting dhist requires you to install the `pickleshare` library.\n",
      "  self.shell.db['dhist'] = compress_dhist(dhist)[-100:]\n"
     ]
    },
    {
     "name": "stdout",
     "output_type": "stream",
     "text": [
      "D:\\Repo\\siunits\n"
     ]
    }
   ],
   "source": [
    "%cd \"D:\\\\Repo\\\\siunits\"\n",
    "\n",
    "import warnings\n",
    "warnings.filterwarnings('ignore')\n",
    "\n",
    "import numpy as np\n",
    "from IPython.display import display\n",
    "\n",
    "import siunits as u\n",
    "from siunits.predefined import *\n",
    "\n",
    "import math"
   ]
  },
  {
   "cell_type": "code",
   "execution_count": 2,
   "metadata": {
    "ExecuteTime": {
     "end_time": "2024-07-31T16:30:14.624042Z",
     "start_time": "2024-07-31T16:30:14.619720Z"
    }
   },
   "outputs": [],
   "source": [
    "np.set_printoptions(formatter={'object': lambda x: str(x)})"
   ]
  },
  {
   "cell_type": "code",
   "execution_count": 3,
   "metadata": {
    "ExecuteTime": {
     "end_time": "2024-07-31T16:30:14.636112Z",
     "start_time": "2024-07-31T16:30:14.625054Z"
    }
   },
   "outputs": [
    {
     "ename": "AttributeError",
     "evalue": "'numpy.float64' object has no attribute '_unit'",
     "output_type": "error",
     "traceback": [
      "\u001b[1;31m---------------------------------------------------------------------------\u001b[0m",
      "\u001b[1;31mAttributeError\u001b[0m                            Traceback (most recent call last)",
      "Cell \u001b[1;32mIn[3], line 1\u001b[0m\n\u001b[1;32m----> 1\u001b[0m length \u001b[38;5;241m=\u001b[39m \u001b[38;5;241;43m0.001\u001b[39;49m\u001b[43m \u001b[49m\u001b[38;5;241;43m*\u001b[39;49m\u001b[43m \u001b[49m\u001b[43mm\u001b[49m\n\u001b[0;32m      2\u001b[0m d \u001b[38;5;241m=\u001b[39m \u001b[38;5;241m7.15\u001b[39m \u001b[38;5;241m*\u001b[39m mm\n\u001b[0;32m      3\u001b[0m gravity \u001b[38;5;241m=\u001b[39m \u001b[38;5;241m9.80\u001b[39m \u001b[38;5;241m*\u001b[39m m \u001b[38;5;241m/\u001b[39m s\u001b[38;5;241m*\u001b[39m\u001b[38;5;241m*\u001b[39m\u001b[38;5;241m2\u001b[39m\n",
      "File \u001b[1;32mD:\\Repo\\siunits\\siunits\\types.py:66\u001b[0m, in \u001b[0;36mUnitBase.__rmul__\u001b[1;34m(self, other)\u001b[0m\n\u001b[0;32m     65\u001b[0m \u001b[38;5;28;01mdef\u001b[39;00m \u001b[38;5;21m__rmul__\u001b[39m(\u001b[38;5;28mself\u001b[39m, other: \u001b[38;5;124m'\u001b[39m\u001b[38;5;124mUnitBase | Quantity | Number | ArrayLike\u001b[39m\u001b[38;5;124m'\u001b[39m):\n\u001b[1;32m---> 66\u001b[0m     \u001b[38;5;28;01mreturn\u001b[39;00m \u001b[43m_mul\u001b[49m\u001b[43m(\u001b[49m\u001b[38;5;28;43mself\u001b[39;49m\u001b[43m,\u001b[49m\u001b[43m \u001b[49m\u001b[43mother\u001b[49m\u001b[43m)\u001b[49m\n",
      "    \u001b[1;31m[... skipping hidden 1 frame]\u001b[0m\n",
      "File \u001b[1;32mD:\\Repo\\siunits\\siunits\\types.py:1133\u001b[0m, in \u001b[0;36m_mul\u001b[1;34m(a, b)\u001b[0m\n\u001b[0;32m   1131\u001b[0m \u001b[38;5;129m@overload\u001b[39m\n\u001b[0;32m   1132\u001b[0m \u001b[38;5;28;01mdef\u001b[39;00m \u001b[38;5;21m_mul\u001b[39m(a: UnitBase, b: ArrayLike \u001b[38;5;241m|\u001b[39m Number) \u001b[38;5;241m-\u001b[39m\u001b[38;5;241m>\u001b[39m Quantity:\n\u001b[1;32m-> 1133\u001b[0m     \u001b[38;5;28;01mreturn\u001b[39;00m \u001b[43mQuantity\u001b[49m\u001b[43m(\u001b[49m\u001b[43mb\u001b[49m\u001b[43m,\u001b[49m\u001b[43m \u001b[49m\u001b[43ma\u001b[49m\u001b[43m)\u001b[49m\n",
      "File \u001b[1;32mD:\\Repo\\siunits\\siunits\\types.py:531\u001b[0m, in \u001b[0;36mQuantity.__new__\u001b[1;34m(cls, value, unit)\u001b[0m\n\u001b[0;32m    528\u001b[0m unit\u001b[38;5;241m.\u001b[39mmultiplier \u001b[38;5;241m=\u001b[39m \u001b[38;5;241m1\u001b[39m\n\u001b[0;32m    530\u001b[0m obj \u001b[38;5;241m=\u001b[39m (np\u001b[38;5;241m.\u001b[39masarray(value) \u001b[38;5;241m*\u001b[39m _multiplier)\u001b[38;5;241m.\u001b[39mview(\u001b[38;5;28mcls\u001b[39m)\n\u001b[1;32m--> 531\u001b[0m \u001b[43mobj\u001b[49m\u001b[38;5;241;43m.\u001b[39;49m\u001b[43m_unit\u001b[49m \u001b[38;5;241m=\u001b[39m unit\n\u001b[0;32m    533\u001b[0m \u001b[38;5;28;01mreturn\u001b[39;00m obj\n",
      "\u001b[1;31mAttributeError\u001b[0m: 'numpy.float64' object has no attribute '_unit'"
     ]
    }
   ],
   "source": [
    "length = 0.001 * m\n",
    "d = 7.15 * mm\n",
    "gravity = 9.80 * m / s**2\n",
    "ρ = 886 * kg / m**3\n",
    "b = 8.22e-3 * Pa * m\n",
    "p = 101.3e3 * Pa\n",
    "η = 1.8456e-5 * N * s / m**2"
   ]
  },
  {
   "cell_type": "code",
   "execution_count": null,
   "metadata": {
    "ExecuteTime": {
     "end_time": "2024-07-31T16:30:14.649921Z",
     "start_time": "2024-07-31T16:30:14.636624Z"
    }
   },
   "outputs": [
    {
     "data": {
      "text/plain": [
       "array([9.46 s, 11.56 s, 13.95 s, 18.11 s, 32.5 s, 48.28 s, -229.92 s,\n",
       "       -79.31 s, -33.95 s, -23.9 s, -16.79 s], dtype=object)"
      ]
     },
     "execution_count": 15,
     "metadata": {},
     "output_type": "execute_result"
    }
   ],
   "source": [
    "voltages: np.ndarray = np.arange(500, -500 - 100, -100) * V\n",
    "times = np.array([9.46, 11.56, 13.95, 18.11, 32.5, 48.28, -229.92, -79.31, -33.95, -23.9, -16.79]) * s\n",
    "\n",
    "times"
   ]
  },
  {
   "cell_type": "code",
   "execution_count": null,
   "metadata": {
    "ExecuteTime": {
     "end_time": "2024-07-31T16:30:14.772543Z",
     "start_time": "2024-07-31T16:30:14.651566Z"
    }
   },
   "outputs": [
    {
     "data": {
      "text/latex": [
       "$\\mathrm {2.071251035625518 \\times 10^{-5} \\, \\dfrac{m}{s}}$"
      ],
      "text/plain": [
       "<Quantity 2.071251035625518e-05 m / s>"
      ]
     },
     "execution_count": 16,
     "metadata": {},
     "output_type": "execute_result"
    }
   ],
   "source": [
    "electric_fields = np.array([(v / d).to(N / C) for v in voltages])\n",
    "velocities = np.array([(length / t).to(m / s) for t in times])\n",
    "v_f = velocities[np.where(voltages == 0*V)[0]].item()\n",
    "\n",
    "v_f"
   ]
  },
  {
   "cell_type": "code",
   "execution_count": null,
   "metadata": {
    "ExecuteTime": {
     "end_time": "2024-07-31T16:30:14.792147Z",
     "start_time": "2024-07-31T16:30:14.773055Z"
    }
   },
   "outputs": [
    {
     "data": {
      "text/latex": [
       "$\\mathrm {2.490628945641173 \\times 10^{-16} \\, kg}$"
      ],
      "text/plain": [
       "<Quantity 2.490628945641173e-16 kg>"
      ]
     },
     "execution_count": 17,
     "metadata": {},
     "output_type": "execute_result"
    }
   ],
   "source": [
    "radius = ((b/(2*p))**2 + 9*η*v_f/(2*gravity*ρ))**0.5 - b/(2*p)\n",
    "mass = 4/3 * math.pi * radius**3 * ρ\n",
    "\n",
    "mass"
   ]
  },
  {
   "cell_type": "code",
   "execution_count": null,
   "metadata": {
    "ExecuteTime": {
     "end_time": "2024-07-31T16:30:14.862685Z",
     "start_time": "2024-07-31T16:30:14.792147Z"
    }
   },
   "outputs": [
    {
     "name": "stdout",
     "output_type": "stream",
     "text": [
      "1.3229013843969866e-12 N / C 2.025313091001752e-05 m / s\n"
     ]
    }
   ],
   "source": [
    "electric_field_mean = np.mean(electric_fields)\n",
    "velocity_mean = np.mean(velocities)\n",
    "\n",
    "print(electric_field_mean, velocity_mean)"
   ]
  },
  {
   "cell_type": "code",
   "execution_count": null,
   "metadata": {
    "ExecuteTime": {
     "end_time": "2024-07-31T16:30:15.101480Z",
     "start_time": "2024-07-31T16:30:14.863187Z"
    }
   },
   "outputs": [
    {
     "data": {
      "text/latex": [
       "$\\mathrm {1.179043847582467 \\times 10^{-9} \\, \\dfrac{C \\cdot m}{N \\cdot s}}$"
      ],
      "text/plain": [
       "<Quantity 1.179043847582467e-09 C ⋅ m / N ⋅ s>"
      ]
     },
     "execution_count": 19,
     "metadata": {},
     "output_type": "execute_result"
    }
   ],
   "source": [
    "# y intercept = v_f\n",
    "slope = np.sum((electric_fields - electric_field_mean) * (velocities - velocity_mean - v_f)) / np.sum((electric_fields - electric_field_mean)**2)\n",
    "\n",
    "slope"
   ]
  },
  {
   "cell_type": "code",
   "execution_count": null,
   "metadata": {},
   "outputs": [
    {
     "data": {
      "text/latex": [
       "$\\mathrm {1.179043847582467 \\times 10^{-9} \\, \\dfrac{A \\cdot s^{2}}{kg}}$"
      ],
      "text/plain": [
       "<Quantity 1.179043847582467e-09 A ⋅ s^2 / kg>"
      ]
     },
     "execution_count": 24,
     "metadata": {},
     "output_type": "execute_result"
    }
   ],
   "source": [
    "slope.expand().expand()"
   ]
  },
  {
   "cell_type": "code",
   "execution_count": null,
   "metadata": {},
   "outputs": [
    {
     "name": "stdout",
     "output_type": "stream",
     "text": [
      "1.389416e-19 C\n"
     ]
    },
    {
     "data": {
      "text/latex": [
       "$\\mathrm {1.3894160923861872 \\times 10^{-16} \\, C}$"
      ],
      "text/plain": [
       "<Quantity 1.3894160923861872e-16 C>"
      ]
     },
     "execution_count": 20,
     "metadata": {},
     "output_type": "execute_result"
    }
   ],
   "source": [
    "q = (slope * mass * gravity / v_f).to(C)\n",
    "\n",
    "print(f\"{q:.6e}\")\n",
    "q"
   ]
  },
  {
   "cell_type": "code",
   "execution_count": null,
   "metadata": {
    "ExecuteTime": {
     "end_time": "2024-07-31T16:30:15.129601Z",
     "start_time": "2024-07-31T16:30:15.114214Z"
    }
   },
   "outputs": [
    {
     "data": {
      "text/latex": [
       "$\\mathrm {1.6 \\times 10^{-19} \\, C}$"
      ],
      "text/plain": [
       "<Quantity 1.6e-19 C>"
      ]
     },
     "execution_count": 21,
     "metadata": {},
     "output_type": "execute_result"
    }
   ],
   "source": [
    "q_theoretical = 1.6e-19 * C\n",
    "\n",
    "q_theoretical"
   ]
  },
  {
   "cell_type": "code",
   "execution_count": null,
   "metadata": {
    "ExecuteTime": {
     "end_time": "2024-07-31T16:30:15.140222Z",
     "start_time": "2024-07-31T16:30:15.129601Z"
    }
   },
   "outputs": [
    {
     "name": "stdout",
     "output_type": "stream",
     "text": [
      "error: 13.16%\n"
     ]
    }
   ],
   "source": [
    "error = abs(q - q_theoretical) / q_theoretical * 100\n",
    "print(f\"error: {error:.2f}%\")"
   ]
  }
 ],
 "metadata": {
  "kernelspec": {
   "display_name": ".venv",
   "language": "python",
   "name": "python3"
  },
  "language_info": {
   "codemirror_mode": {
    "name": "ipython",
    "version": 3
   },
   "file_extension": ".py",
   "mimetype": "text/x-python",
   "name": "python",
   "nbconvert_exporter": "python",
   "pygments_lexer": "ipython3",
   "version": "3.12.4"
  }
 },
 "nbformat": 4,
 "nbformat_minor": 2
}
