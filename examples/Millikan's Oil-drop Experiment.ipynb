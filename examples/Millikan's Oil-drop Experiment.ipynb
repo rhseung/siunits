{
 "cells": [
  {
   "cell_type": "code",
   "execution_count": 1,
   "metadata": {
    "ExecuteTime": {
     "end_time": "2024-07-31T16:30:14.619720Z",
     "start_time": "2024-07-31T16:30:14.316006Z"
    }
   },
   "outputs": [
    {
     "name": "stderr",
     "output_type": "stream",
     "text": [
      "d:\\Repo\\siunits\\.venv\\Lib\\site-packages\\IPython\\core\\magics\\osm.py:417: UserWarning: This is now an optional IPython functionality, setting dhist requires you to install the `pickleshare` library.\n",
      "  self.shell.db['dhist'] = compress_dhist(dhist)[-100:]\n"
     ]
    },
    {
     "name": "stdout",
     "output_type": "stream",
     "text": [
      "D:\\Repo\\siunits\n"
     ]
    }
   ],
   "source": [
    "%cd \"D:\\\\Repo\\\\siunits\"\n",
    "\n",
    "import warnings\n",
    "warnings.filterwarnings('ignore')\n",
    "\n",
    "import numpy as np\n",
    "from IPython.display import display\n",
    "\n",
    "import siunits as u\n",
    "from siunits.predefined import *\n",
    "\n",
    "import math"
   ]
  },
  {
   "cell_type": "code",
   "execution_count": 2,
   "metadata": {
    "ExecuteTime": {
     "end_time": "2024-07-31T16:30:14.624042Z",
     "start_time": "2024-07-31T16:30:14.619720Z"
    }
   },
   "outputs": [],
   "source": [
    "np.set_printoptions(formatter={'object': lambda x: str(x)})"
   ]
  },
  {
   "cell_type": "code",
   "execution_count": 3,
   "metadata": {
    "ExecuteTime": {
     "end_time": "2024-07-31T16:30:14.636112Z",
     "start_time": "2024-07-31T16:30:14.625054Z"
    }
   },
   "outputs": [],
   "source": [
    "length = 0.001 * m\n",
    "d = 7.15 * mm\n",
    "gravity = 9.80 * m / s**2\n",
    "ρ = 886 * kg / m**3\n",
    "b = 8.22e-3 * Pa * m\n",
    "p = 101.3e3 * Pa\n",
    "η = 1.8456e-5 * N * s / m**2"
   ]
  },
  {
   "cell_type": "code",
   "execution_count": 4,
   "metadata": {
    "ExecuteTime": {
     "end_time": "2024-07-31T16:30:14.649921Z",
     "start_time": "2024-07-31T16:30:14.636624Z"
    }
   },
   "outputs": [
    {
     "data": {
      "text/plain": [
       "array([9.46 s, 11.56 s, 13.95 s, 18.11 s, 32.5 s, 48.28 s, -229.92 s,\n",
       "       -79.31 s, -33.95 s, -23.9 s, -16.79 s], dtype=object)"
      ]
     },
     "execution_count": 4,
     "metadata": {},
     "output_type": "execute_result"
    }
   ],
   "source": [
    "voltages: np.ndarray = np.arange(500, -500 - 100, -100) * V\n",
    "times = np.array([9.46, 11.56, 13.95, 18.11, 32.5, 48.28, -229.92, -79.31, -33.95, -23.9, -16.79]) * s\n",
    "\n",
    "times"
   ]
  },
  {
   "cell_type": "code",
   "execution_count": 5,
   "metadata": {
    "ExecuteTime": {
     "end_time": "2024-07-31T16:30:14.772543Z",
     "start_time": "2024-07-31T16:30:14.651566Z"
    }
   },
   "outputs": [
    {
     "data": {
      "text/latex": [
       "$\\mathrm {2.071251035625518 \\times 10^{-5} \\, \\dfrac{m}{s}}$"
      ],
      "text/plain": [
       "<Quantity 2.071251035625518e-05 m / s>"
      ]
     },
     "execution_count": 5,
     "metadata": {},
     "output_type": "execute_result"
    }
   ],
   "source": [
    "electric_fields = np.array([(v / d).to(N / C) for v in voltages])\n",
    "velocities = np.array([(length / t).to(m / s) for t in times])\n",
    "v_f = velocities[np.where(voltages == 0*V)[0]].item()\n",
    "\n",
    "v_f"
   ]
  },
  {
   "cell_type": "code",
   "execution_count": 6,
   "metadata": {
    "ExecuteTime": {
     "end_time": "2024-07-31T16:30:14.792147Z",
     "start_time": "2024-07-31T16:30:14.773055Z"
    }
   },
   "outputs": [
    {
     "data": {
      "text/latex": [
       "$\\mathrm {2.490628945641173 \\times 10^{-16} \\, kg}$"
      ],
      "text/plain": [
       "<Quantity 2.490628945641173e-16 kg>"
      ]
     },
     "execution_count": 6,
     "metadata": {},
     "output_type": "execute_result"
    }
   ],
   "source": [
    "radius = ((b/(2*p))**2 + 9*η*v_f/(2*gravity*ρ))**0.5 - b/(2*p)\n",
    "mass = 4/3 * math.pi * radius**3 * ρ\n",
    "\n",
    "mass"
   ]
  },
  {
   "cell_type": "code",
   "execution_count": 12,
   "metadata": {
    "ExecuteTime": {
     "end_time": "2024-07-31T16:30:14.862685Z",
     "start_time": "2024-07-31T16:30:14.792147Z"
    }
   },
   "outputs": [
    {
     "name": "stdout",
     "output_type": "stream",
     "text": [
      "1.3229013843969866e-12 N / C 2.025313091001752e-05 m / s\n"
     ]
    }
   ],
   "source": [
    "electric_field_mean = np.mean(electric_fields)\n",
    "velocity_mean = np.mean(velocities)\n",
    "\n",
    "print(electric_field_mean, velocity_mean)"
   ]
  },
  {
   "cell_type": "code",
   "execution_count": 8,
   "metadata": {
    "ExecuteTime": {
     "end_time": "2024-07-31T16:30:15.101480Z",
     "start_time": "2024-07-31T16:30:14.863187Z"
    }
   },
   "outputs": [
    {
     "data": {
      "text/latex": [
       "$\\mathrm {1.179043847582467 \\times 10^{-9} \\, \\dfrac{C \\cdot m}{N \\cdot s}}$"
      ],
      "text/plain": [
       "<Quantity 1.179043847582467e-09 C ⋅ m / N ⋅ s>"
      ]
     },
     "execution_count": 8,
     "metadata": {},
     "output_type": "execute_result"
    }
   ],
   "source": [
    "# y intercept = v_f\n",
    "slope = np.sum((electric_fields - electric_field_mean) * (velocities - velocity_mean - v_f)) / np.sum((electric_fields - electric_field_mean)**2)\n",
    "\n",
    "slope"
   ]
  },
  {
   "cell_type": "code",
   "execution_count": 9,
   "metadata": {},
   "outputs": [
    {
     "data": {
      "text/latex": [
       "$\\mathrm {1.3894160923861873 \\times 10^{-19} \\, C}$"
      ],
      "text/plain": [
       "<Quantity 1.3894160923861873e-19 C>"
      ]
     },
     "execution_count": 9,
     "metadata": {},
     "output_type": "execute_result"
    }
   ],
   "source": [
    "q = (slope * mass * gravity / v_f).to(C)\n",
    "\n",
    "q"
   ]
  },
  {
   "cell_type": "code",
   "execution_count": 10,
   "metadata": {
    "ExecuteTime": {
     "end_time": "2024-07-31T16:30:15.129601Z",
     "start_time": "2024-07-31T16:30:15.114214Z"
    }
   },
   "outputs": [
    {
     "data": {
      "text/latex": [
       "$\\mathrm {1.6 \\times 10^{-19} \\, C}$"
      ],
      "text/plain": [
       "<Quantity 1.6e-19 C>"
      ]
     },
     "execution_count": 10,
     "metadata": {},
     "output_type": "execute_result"
    }
   ],
   "source": [
    "q_theoretical = 1.6e-19 * C\n",
    "\n",
    "q_theoretical"
   ]
  },
  {
   "cell_type": "code",
   "execution_count": 11,
   "metadata": {
    "ExecuteTime": {
     "end_time": "2024-07-31T16:30:15.140222Z",
     "start_time": "2024-07-31T16:30:15.129601Z"
    }
   },
   "outputs": [
    {
     "name": "stdout",
     "output_type": "stream",
     "text": [
      "error: 13.16%\n"
     ]
    }
   ],
   "source": [
    "error = abs(q - q_theoretical) / q_theoretical * 100\n",
    "print(f\"error: {error:.2f}%\")"
   ]
  }
 ],
 "metadata": {
  "kernelspec": {
   "display_name": ".venv",
   "language": "python",
   "name": "python3"
  },
  "language_info": {
   "codemirror_mode": {
    "name": "ipython",
    "version": 3
   },
   "file_extension": ".py",
   "mimetype": "text/x-python",
   "name": "python",
   "nbconvert_exporter": "python",
   "pygments_lexer": "ipython3",
   "version": "3.12.4"
  }
 },
 "nbformat": 4,
 "nbformat_minor": 2
}
