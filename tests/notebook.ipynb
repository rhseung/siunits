{
 "cells": [
  {
   "cell_type": "code",
   "metadata": {
    "ExecuteTime": {
     "end_time": "2024-07-24T12:05:24.427580Z",
     "start_time": "2024-07-24T12:05:24.371387Z"
    }
   },
   "source": [
    "%cd \"D:\\\\Repo\\\\siunits\"\n",
    "\n",
    "import warnings\n",
    "warnings.filterwarnings('ignore')\n",
    "\n",
    "import siunits as u"
   ],
   "outputs": [
    {
     "name": "stdout",
     "output_type": "stream",
     "text": [
      "D:\\Repo\\siunits\n"
     ]
    },
    {
     "name": "stderr",
     "output_type": "stream",
     "text": [
      "D:\\Repo\\siunits\\.venv\\Lib\\site-packages\\IPython\\core\\magics\\osm.py:417: UserWarning: This is now an optional IPython functionality, setting dhist requires you to install the `pickleshare` library.\n",
      "  self.shell.db['dhist'] = compress_dhist(dhist)[-100:]\n"
     ]
    }
   ],
   "execution_count": 1
  },
  {
   "metadata": {
    "ExecuteTime": {
     "end_time": "2024-07-24T12:05:24.439459Z",
     "start_time": "2024-07-24T12:05:24.431009Z"
    }
   },
   "cell_type": "code",
   "source": "u.atm",
   "outputs": [
    {
     "data": {
      "text/plain": [
       "<FixedUnit[M / L ⋅ T^2] 'atm'>"
      ],
      "text/latex": "$\\mathrm {atm}$"
     },
     "execution_count": 2,
     "metadata": {},
     "output_type": "execute_result"
    }
   ],
   "execution_count": 2
  },
  {
   "metadata": {
    "ExecuteTime": {
     "end_time": "2024-07-24T12:05:24.448951Z",
     "start_time": "2024-07-24T12:05:24.439459Z"
    }
   },
   "cell_type": "code",
   "source": "u.atm.expand()",
   "outputs": [
    {
     "data": {
      "text/plain": [
       "<ComplexUnit[M / L ⋅ T^2] '101325 Pa' multiplier=101325>"
      ],
      "text/latex": "$\\mathrm {101325 \\, Pa}$"
     },
     "execution_count": 3,
     "metadata": {},
     "output_type": "execute_result"
    }
   ],
   "execution_count": 3
  },
  {
   "metadata": {
    "ExecuteTime": {
     "end_time": "2024-07-24T12:05:24.458286Z",
     "start_time": "2024-07-24T12:05:24.448951Z"
    }
   },
   "cell_type": "code",
   "source": "u.atm.expand().expand()",
   "outputs": [
    {
     "data": {
      "text/plain": [
       "<ComplexUnit[M / L ⋅ T^2] '101325 N / m^2' multiplier=101325>"
      ],
      "text/latex": "$\\mathrm {101325 \\, \\dfrac{N}{m^2}}$"
     },
     "execution_count": 4,
     "metadata": {},
     "output_type": "execute_result"
    }
   ],
   "execution_count": 4
  },
  {
   "metadata": {
    "ExecuteTime": {
     "end_time": "2024-07-24T12:05:24.466545Z",
     "start_time": "2024-07-24T12:05:24.460802Z"
    }
   },
   "cell_type": "code",
   "source": "u.Pa.expand()",
   "outputs": [
    {
     "data": {
      "text/plain": [
       "<ComplexUnit[M / L ⋅ T^2] 'N / m^2'>"
      ],
      "text/latex": "$\\mathrm {\\dfrac{N}{m^2}}$"
     },
     "execution_count": 5,
     "metadata": {},
     "output_type": "execute_result"
    }
   ],
   "execution_count": 5
  },
  {
   "metadata": {
    "ExecuteTime": {
     "end_time": "2024-07-24T12:05:24.474719Z",
     "start_time": "2024-07-24T12:05:24.466545Z"
    }
   },
   "cell_type": "code",
   "source": [
    "C = u.FixedUnit('C', u.A * u.s)\n",
    "F = u.FixedUnit('F', C ** 1, multiplier=96500)\n",
    "\n",
    "C"
   ],
   "outputs": [
    {
     "data": {
      "text/plain": [
       "<FixedUnit[T ⋅ I] 'C'>"
      ],
      "text/latex": "$\\mathrm {C}$"
     },
     "execution_count": 6,
     "metadata": {},
     "output_type": "execute_result"
    }
   ],
   "execution_count": 6
  },
  {
   "metadata": {
    "ExecuteTime": {
     "end_time": "2024-07-24T12:05:24.482354Z",
     "start_time": "2024-07-24T12:05:24.475932Z"
    }
   },
   "cell_type": "code",
   "source": "F",
   "outputs": [
    {
     "data": {
      "text/plain": [
       "<FixedUnit[T ⋅ I] 'F'>"
      ],
      "text/latex": "$\\mathrm {F}$"
     },
     "execution_count": 7,
     "metadata": {},
     "output_type": "execute_result"
    }
   ],
   "execution_count": 7
  },
  {
   "metadata": {
    "ExecuteTime": {
     "end_time": "2024-07-24T12:05:24.490060Z",
     "start_time": "2024-07-24T12:05:24.482867Z"
    }
   },
   "cell_type": "code",
   "source": "F.expand()",
   "outputs": [
    {
     "data": {
      "text/plain": [
       "<ComplexUnit[T ⋅ I] '96500 C' multiplier=96500>"
      ],
      "text/latex": "$\\mathrm {96500 \\, C}$"
     },
     "execution_count": 8,
     "metadata": {},
     "output_type": "execute_result"
    }
   ],
   "execution_count": 8
  },
  {
   "metadata": {
    "ExecuteTime": {
     "end_time": "2024-07-24T12:05:24.497521Z",
     "start_time": "2024-07-24T12:05:24.490570Z"
    }
   },
   "cell_type": "code",
   "source": "C.expand()",
   "outputs": [
    {
     "data": {
      "text/plain": [
       "<ComplexUnit[T ⋅ I] 'A ⋅ s'>"
      ],
      "text/latex": "$\\mathrm {A \\cdot s}$"
     },
     "execution_count": 9,
     "metadata": {},
     "output_type": "execute_result"
    }
   ],
   "execution_count": 9
  },
  {
   "metadata": {
    "ExecuteTime": {
     "end_time": "2024-07-24T12:05:24.506557Z",
     "start_time": "2024-07-24T12:05:24.497521Z"
    }
   },
   "cell_type": "code",
   "source": "F.expand().expand()",
   "outputs": [
    {
     "data": {
      "text/plain": [
       "<ComplexUnit[T ⋅ I] '96500 A ⋅ s' multiplier=96500>"
      ],
      "text/latex": "$\\mathrm {96500 \\, A \\cdot s}$"
     },
     "execution_count": 10,
     "metadata": {},
     "output_type": "execute_result"
    }
   ],
   "execution_count": 10
  },
  {
   "metadata": {
    "ExecuteTime": {
     "end_time": "2024-07-24T12:05:24.515769Z",
     "start_time": "2024-07-24T12:05:24.507727Z"
    }
   },
   "cell_type": "code",
   "source": "F.expand().expand().expand()",
   "outputs": [
    {
     "data": {
      "text/plain": [
       "<ComplexUnit[T ⋅ I] '96500 A ⋅ s' multiplier=96500>"
      ],
      "text/latex": "$\\mathrm {96500 \\, A \\cdot s}$"
     },
     "execution_count": 11,
     "metadata": {},
     "output_type": "execute_result"
    }
   ],
   "execution_count": 11
  },
  {
   "metadata": {
    "ExecuteTime": {
     "end_time": "2024-07-24T12:05:31.075156Z",
     "start_time": "2024-07-24T12:05:31.062931Z"
    }
   },
   "cell_type": "code",
   "source": "F.expand().expand().expand().expand()",
   "outputs": [
    {
     "data": {
      "text/plain": [
       "<ComplexUnit[T ⋅ I] '96500 A ⋅ s' multiplier=96500>"
      ],
      "text/latex": "$\\mathrm {96500 \\, A \\cdot s}$"
     },
     "execution_count": 12,
     "metadata": {},
     "output_type": "execute_result"
    }
   ],
   "execution_count": 12
  },
  {
   "metadata": {},
   "cell_type": "code",
   "outputs": [],
   "execution_count": null,
   "source": ""
  }
 ],
 "metadata": {
  "kernelspec": {
   "display_name": ".venv",
   "language": "python",
   "name": "python3"
  },
  "language_info": {
   "codemirror_mode": {
    "name": "ipython",
    "version": 3
   },
   "file_extension": ".py",
   "mimetype": "text/x-python",
   "name": "python",
   "nbconvert_exporter": "python",
   "pygments_lexer": "ipython3",
   "version": "3.12.4"
  }
 },
 "nbformat": 4,
 "nbformat_minor": 2
}
