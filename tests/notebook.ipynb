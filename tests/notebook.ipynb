{
 "cells": [
  {
   "cell_type": "code",
   "execution_count": 1,
   "metadata": {
    "ExecuteTime": {
     "end_time": "2024-07-25T06:03:05.299514Z",
     "start_time": "2024-07-25T06:03:05.190676Z"
    }
   },
   "outputs": [
    {
     "name": "stdout",
     "output_type": "stream",
     "text": [
      "D:\\Repo\\siunits\n"
     ]
    },
    {
     "name": "stderr",
     "output_type": "stream",
     "text": [
      "d:\\Repo\\siunits\\.venv\\Lib\\site-packages\\IPython\\core\\magics\\osm.py:417: UserWarning: This is now an optional IPython functionality, setting dhist requires you to install the `pickleshare` library.\n",
      "  self.shell.db['dhist'] = compress_dhist(dhist)[-100:]\n"
     ]
    }
   ],
   "source": [
    "%cd \"D:\\\\Repo\\\\siunits\"\n",
    "\n",
    "import warnings\n",
    "warnings.filterwarnings('ignore')\n",
    "\n",
    "import siunits as u\n",
    "from IPython.display import display"
   ]
  },
  {
   "cell_type": "code",
   "execution_count": 2,
   "metadata": {},
   "outputs": [
    {
     "data": {
      "text/latex": [
       "$\\mathrm {\\Omega}$"
      ],
      "text/plain": [
       "<FixedUnit[L^2 ⋅ M / T^3 ⋅ I^2] 'Ω'>"
      ]
     },
     "metadata": {},
     "output_type": "display_data"
    },
    {
     "data": {
      "text/latex": [
       "$\\mathrm {\\dfrac{V}{A}}$"
      ],
      "text/plain": [
       "<ComplexUnit[L^2 ⋅ M / T^3 ⋅ I^2] 'V / A'>"
      ]
     },
     "metadata": {},
     "output_type": "display_data"
    },
    {
     "data": {
      "text/latex": [
       "$\\mathrm {\\dfrac{J}{A \\cdot C}}$"
      ],
      "text/plain": [
       "<ComplexUnit[L^2 ⋅ M / T^3 ⋅ I^2] 'J / A ⋅ C'>"
      ]
     },
     "metadata": {},
     "output_type": "display_data"
    },
    {
     "data": {
      "text/latex": [
       "$\\mathrm {\\dfrac{N \\cdot m}{A \\cdot C}}$"
      ],
      "text/plain": [
       "<ComplexUnit[L^2 ⋅ M / T^3 ⋅ I^2] 'N ⋅ m / A ⋅ C'>"
      ]
     },
     "metadata": {},
     "output_type": "display_data"
    },
    {
     "data": {
      "text/latex": [
       "$\\mathrm {\\dfrac{kg \\cdot m^2}{A \\cdot C \\cdot s^2}}$"
      ],
      "text/plain": [
       "<ComplexUnit[L^2 ⋅ M / T^3 ⋅ I^2] 'kg ⋅ m^2 / A ⋅ C ⋅ s^2'>"
      ]
     },
     "metadata": {},
     "output_type": "display_data"
    },
    {
     "data": {
      "text/latex": [
       "$\\mathrm {\\dfrac{kg \\cdot m^2}{A^2 \\cdot s^3}}$"
      ],
      "text/plain": [
       "<ComplexUnit[L^2 ⋅ M / T^3 ⋅ I^2] 'kg ⋅ m^2 / A^2 ⋅ s^3'>"
      ]
     },
     "metadata": {},
     "output_type": "display_data"
    }
   ],
   "source": [
    "un = u.ohm\n",
    "display(un)\n",
    "while (expand := un.expand()) != un:\n",
    "    un = expand\n",
    "    display(un)"
   ]
  },
  {
   "cell_type": "code",
   "execution_count": 3,
   "metadata": {},
   "outputs": [
    {
     "data": {
      "text/latex": [
       "$\\mathrm {\\dfrac{kg \\cdot m^2}{A^2 \\cdot s^3}}$"
      ],
      "text/plain": [
       "<ComplexUnit[L^2 ⋅ M / T^3 ⋅ I^2] 'kg ⋅ m^2 / A^2 ⋅ s^3'>"
      ]
     },
     "execution_count": 3,
     "metadata": {},
     "output_type": "execute_result"
    }
   ],
   "source": [
    "u.ohm.si()"
   ]
  },
  {
   "cell_type": "code",
   "execution_count": 4,
   "metadata": {},
   "outputs": [
    {
     "data": {
      "text/latex": [
       "$\\mathrm {\\dfrac{kg}{g}}$"
      ],
      "text/plain": [
       "<ComplexUnit[1] 'kg / g'>"
      ]
     },
     "execution_count": 4,
     "metadata": {},
     "output_type": "execute_result"
    }
   ],
   "source": [
    "u2 = u.kg / u.g\n",
    "u2"
   ]
  },
  {
   "cell_type": "code",
   "execution_count": 5,
   "metadata": {},
   "outputs": [
    {
     "data": {
      "text/latex": [
       "$\\mathrm {1000}$"
      ],
      "text/plain": [
       "<ComplexUnit[1] '1000' multiplier=1000.0>"
      ]
     },
     "execution_count": 5,
     "metadata": {},
     "output_type": "execute_result"
    }
   ],
   "source": [
    "u2.expand().expand()"
   ]
  },
  {
   "cell_type": "code",
   "execution_count": 6,
   "metadata": {},
   "outputs": [
    {
     "data": {
      "text/latex": [
       "$\\mathrm {1000}$"
      ],
      "text/plain": [
       "<ComplexUnit[1] '1000' multiplier=1000.0>"
      ]
     },
     "execution_count": 6,
     "metadata": {},
     "output_type": "execute_result"
    }
   ],
   "source": [
    "u2.si()"
   ]
  },
  {
   "cell_type": "code",
   "execution_count": 7,
   "metadata": {},
   "outputs": [
    {
     "data": {
      "text/latex": [
       "$\\mathrm {101325 \\, atm \\cdot Pa}$"
      ],
      "text/plain": [
       "<ComplexUnit[M^2 / L^2 ⋅ T^4] '101325 atm ⋅ Pa' multiplier=101325.0>"
      ]
     },
     "execution_count": 7,
     "metadata": {},
     "output_type": "execute_result"
    }
   ],
   "source": [
    "(u.atm ** 2).to(u.atm * u.Pa)"
   ]
  },
  {
   "cell_type": "code",
   "execution_count": 8,
   "metadata": {},
   "outputs": [
    {
     "data": {
      "text/latex": [
       "$\\mathrm {0.01 \\, m}$"
      ],
      "text/plain": [
       "<ComplexUnit[L] '0.01 m' multiplier=0.01>"
      ]
     },
     "execution_count": 8,
     "metadata": {},
     "output_type": "execute_result"
    }
   ],
   "source": [
    "(u.cm).to(u.m)"
   ]
  },
  {
   "cell_type": "code",
   "execution_count": 10,
   "metadata": {},
   "outputs": [
    {
     "data": {
      "text/latex": [
       "$\\mathrm {\\dfrac{V}{A}}$"
      ],
      "text/plain": [
       "<ComplexUnit[L^2 ⋅ M / T^3 ⋅ I^2] 'V / A'>"
      ]
     },
     "execution_count": 10,
     "metadata": {},
     "output_type": "execute_result"
    }
   ],
   "source": [
    "u.ohm.to(u.V / u.A)"
   ]
  },
  {
   "cell_type": "code",
   "execution_count": null,
   "metadata": {},
   "outputs": [],
   "source": []
  }
 ],
 "metadata": {
  "kernelspec": {
   "display_name": ".venv",
   "language": "python",
   "name": "python3"
  },
  "language_info": {
   "codemirror_mode": {
    "name": "ipython",
    "version": 3
   },
   "file_extension": ".py",
   "mimetype": "text/x-python",
   "name": "python",
   "nbconvert_exporter": "python",
   "pygments_lexer": "ipython3",
   "version": "3.12.4"
  }
 },
 "nbformat": 4,
 "nbformat_minor": 2
}
