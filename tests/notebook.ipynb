{
 "cells": [
  {
   "cell_type": "code",
   "metadata": {
    "ExecuteTime": {
     "end_time": "2024-07-27T08:12:03.013729Z",
     "start_time": "2024-07-27T08:12:03.003778Z"
    }
   },
   "source": [
    "%cd \"D:\\\\Repo\\\\siunits\"\n",
    "\n",
    "import warnings\n",
    "warnings.filterwarnings('ignore')\n",
    "\n",
    "import siunits as u\n",
    "from siunits.predefined import *\n",
    "from IPython.display import display"
   ],
   "outputs": [
    {
     "name": "stdout",
     "output_type": "stream",
     "text": [
      "D:\\Repo\\siunits\n"
     ]
    }
   ],
   "execution_count": 15
  },
  {
   "metadata": {
    "ExecuteTime": {
     "end_time": "2024-07-27T08:12:03.030206Z",
     "start_time": "2024-07-27T08:12:03.018861Z"
    }
   },
   "cell_type": "code",
   "source": "3*kg",
   "outputs": [
    {
     "data": {
      "text/plain": [
       "<Quantity 3 kg>"
      ],
      "text/latex": "$\\mathrm {3 \\, kg}$"
     },
     "execution_count": 16,
     "metadata": {},
     "output_type": "execute_result"
    }
   ],
   "execution_count": 16
  },
  {
   "metadata": {
    "ExecuteTime": {
     "end_time": "2024-07-27T08:12:03.132170Z",
     "start_time": "2024-07-27T08:12:03.125416Z"
    }
   },
   "cell_type": "code",
   "source": "3*kg + 2*kg",
   "outputs": [
    {
     "data": {
      "text/plain": [
       "<Quantity 5 kg>"
      ],
      "text/latex": "$\\mathrm {5 \\, kg}$"
     },
     "execution_count": 17,
     "metadata": {},
     "output_type": "execute_result"
    }
   ],
   "execution_count": 17
  },
  {
   "metadata": {
    "ExecuteTime": {
     "end_time": "2024-07-27T08:12:03.139915Z",
     "start_time": "2024-07-27T08:12:03.132170Z"
    }
   },
   "cell_type": "code",
   "source": "3*kg - 3*kg",
   "outputs": [
    {
     "data": {
      "text/plain": [
       "<Quantity 0 kg>"
      ],
      "text/latex": "$\\mathrm {0 \\, kg}$"
     },
     "execution_count": 18,
     "metadata": {},
     "output_type": "execute_result"
    }
   ],
   "execution_count": 18
  },
  {
   "metadata": {
    "ExecuteTime": {
     "end_time": "2024-07-27T08:12:03.153202Z",
     "start_time": "2024-07-27T08:12:03.145183Z"
    }
   },
   "cell_type": "code",
   "source": "3*kg - 3*kg == 0",
   "outputs": [
    {
     "data": {
      "text/plain": [
       "True"
      ]
     },
     "execution_count": 19,
     "metadata": {},
     "output_type": "execute_result"
    }
   ],
   "execution_count": 19
  },
  {
   "metadata": {
    "ExecuteTime": {
     "end_time": "2024-07-27T08:12:03.162704Z",
     "start_time": "2024-07-27T08:12:03.155315Z"
    }
   },
   "cell_type": "code",
   "source": "3*kg - 3*kg == 0*kg",
   "outputs": [
    {
     "data": {
      "text/plain": [
       "True"
      ]
     },
     "execution_count": 20,
     "metadata": {},
     "output_type": "execute_result"
    }
   ],
   "execution_count": 20
  },
  {
   "metadata": {
    "ExecuteTime": {
     "end_time": "2024-07-27T08:12:03.170434Z",
     "start_time": "2024-07-27T08:12:03.163718Z"
    }
   },
   "cell_type": "code",
   "source": "(3*kg)**2",
   "outputs": [
    {
     "data": {
      "text/plain": [
       "<Quantity 9 kg^2>"
      ],
      "text/latex": "$\\mathrm {9 \\, kg^2}$"
     },
     "execution_count": 21,
     "metadata": {},
     "output_type": "execute_result"
    }
   ],
   "execution_count": 21
  },
  {
   "metadata": {
    "ExecuteTime": {
     "end_time": "2024-07-27T08:12:03.207706Z",
     "start_time": "2024-07-27T08:12:03.201997Z"
    }
   },
   "cell_type": "code",
   "source": "[1, 2, 3] * m",
   "outputs": [
    {
     "data": {
      "text/plain": [
       "array([<Quantity 1 m>, <Quantity 2 m>, <Quantity 3 m>], dtype=object)"
      ]
     },
     "execution_count": 22,
     "metadata": {},
     "output_type": "execute_result"
    }
   ],
   "execution_count": 22
  },
  {
   "metadata": {
    "ExecuteTime": {
     "end_time": "2024-07-27T08:12:03.287120Z",
     "start_time": "2024-07-27T08:12:03.215429Z"
    }
   },
   "cell_type": "code",
   "source": [
    "un = [1, 2, 3] * m\n",
    "2*un"
   ],
   "outputs": [
    {
     "ename": "AttributeError",
     "evalue": "'Quantity' object has no attribute 'multiplier'",
     "output_type": "error",
     "traceback": [
      "\u001B[1;31m---------------------------------------------------------------------------\u001B[0m",
      "\u001B[1;31mAttributeError\u001B[0m                            Traceback (most recent call last)",
      "Cell \u001B[1;32mIn[23], line 2\u001B[0m\n\u001B[0;32m      1\u001B[0m un \u001B[38;5;241m=\u001B[39m [\u001B[38;5;241m1\u001B[39m, \u001B[38;5;241m2\u001B[39m, \u001B[38;5;241m3\u001B[39m] \u001B[38;5;241m*\u001B[39m m\n\u001B[1;32m----> 2\u001B[0m \u001B[38;5;241;43m2\u001B[39;49m\u001B[38;5;241;43m*\u001B[39;49m\u001B[43mun\u001B[49m\n",
      "File \u001B[1;32mD:\\Repo\\siunits\\siunits\\types.py:422\u001B[0m, in \u001B[0;36mQuantity.__rmul__\u001B[1;34m(self, other)\u001B[0m\n\u001B[0;32m    421\u001B[0m \u001B[38;5;28;01mdef\u001B[39;00m \u001B[38;5;21m__rmul__\u001B[39m(\u001B[38;5;28mself\u001B[39m, other):\n\u001B[1;32m--> 422\u001B[0m     \u001B[38;5;28;01mreturn\u001B[39;00m \u001B[38;5;28;43mself\u001B[39;49m\u001B[38;5;241;43m.\u001B[39;49m\u001B[38;5;21;43m__mul__\u001B[39;49m\u001B[43m(\u001B[49m\u001B[43mother\u001B[49m\u001B[43m)\u001B[49m\n",
      "File \u001B[1;32mD:\\Repo\\siunits\\siunits\\types.py:419\u001B[0m, in \u001B[0;36mQuantity.__mul__\u001B[1;34m(self, other)\u001B[0m\n\u001B[0;32m    417\u001B[0m     \u001B[38;5;28;01mreturn\u001B[39;00m Quantity(\u001B[38;5;241m1\u001B[39m, _mul(\u001B[38;5;28mself\u001B[39m\u001B[38;5;241m.\u001B[39m_to_complex_unit(), other\u001B[38;5;241m.\u001B[39m_to_complex_unit()))\n\u001B[0;32m    418\u001B[0m \u001B[38;5;28;01melse\u001B[39;00m:\n\u001B[1;32m--> 419\u001B[0m     \u001B[38;5;28;01mreturn\u001B[39;00m \u001B[43mQuantity\u001B[49m\u001B[43m(\u001B[49m\u001B[38;5;241;43m1\u001B[39;49m\u001B[43m,\u001B[49m\u001B[43m \u001B[49m\u001B[43m_mul\u001B[49m\u001B[43m(\u001B[49m\u001B[38;5;28;43mself\u001B[39;49m\u001B[38;5;241;43m.\u001B[39;49m\u001B[43m_to_complex_unit\u001B[49m\u001B[43m(\u001B[49m\u001B[43m)\u001B[49m\u001B[43m,\u001B[49m\u001B[43m \u001B[49m\u001B[43mother\u001B[49m\u001B[43m)\u001B[49m\u001B[43m)\u001B[49m\n",
      "File \u001B[1;32mD:\\Repo\\siunits\\siunits\\types.py:351\u001B[0m, in \u001B[0;36mQuantity.__init__\u001B[1;34m(self, value, unit)\u001B[0m\n\u001B[0;32m    345\u001B[0m \u001B[38;5;28;01mdef\u001B[39;00m \u001B[38;5;21m__init__\u001B[39m(\u001B[38;5;28mself\u001B[39m, value: \u001B[38;5;28mint\u001B[39m \u001B[38;5;241m|\u001B[39m \u001B[38;5;28mfloat\u001B[39m, unit: U):\n\u001B[0;32m    346\u001B[0m \u001B[38;5;250m    \u001B[39m\u001B[38;5;124;03m\"\"\"\u001B[39;00m\n\u001B[0;32m    347\u001B[0m \u001B[38;5;124;03m    :param value: int | float\u001B[39;00m\n\u001B[0;32m    348\u001B[0m \u001B[38;5;124;03m    :param unit: bound of UnitBase\u001B[39;00m\n\u001B[0;32m    349\u001B[0m \u001B[38;5;124;03m    \"\"\"\u001B[39;00m\n\u001B[1;32m--> 351\u001B[0m     \u001B[38;5;28mself\u001B[39m\u001B[38;5;241m.\u001B[39mvalue \u001B[38;5;241m=\u001B[39m value \u001B[38;5;241m*\u001B[39m \u001B[43munit\u001B[49m\u001B[38;5;241;43m.\u001B[39;49m\u001B[43mmultiplier\u001B[49m\n\u001B[0;32m    352\u001B[0m     \u001B[38;5;28mself\u001B[39m\u001B[38;5;241m.\u001B[39munit \u001B[38;5;241m=\u001B[39m unit\n\u001B[0;32m    353\u001B[0m     unit\u001B[38;5;241m.\u001B[39mmultiplier \u001B[38;5;241m=\u001B[39m \u001B[38;5;241m1\u001B[39m\n",
      "\u001B[1;31mAttributeError\u001B[0m: 'Quantity' object has no attribute 'multiplier'"
     ]
    }
   ],
   "execution_count": 23
  },
  {
   "metadata": {},
   "cell_type": "code",
   "source": "[1, 2, 3] * m + ([1, 2, 3] * m) * 2",
   "outputs": [],
   "execution_count": null
  },
  {
   "metadata": {},
   "cell_type": "code",
   "source": "",
   "outputs": [],
   "execution_count": null
  }
 ],
 "metadata": {
  "kernelspec": {
   "display_name": ".venv",
   "language": "python",
   "name": "python3"
  },
  "language_info": {
   "codemirror_mode": {
    "name": "ipython",
    "version": 3
   },
   "file_extension": ".py",
   "mimetype": "text/x-python",
   "name": "python",
   "nbconvert_exporter": "python",
   "pygments_lexer": "ipython3",
   "version": "3.12.4"
  }
 },
 "nbformat": 4,
 "nbformat_minor": 2
}
