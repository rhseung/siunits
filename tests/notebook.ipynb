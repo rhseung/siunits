{
 "cells": [
  {
   "cell_type": "code",
   "metadata": {
    "ExecuteTime": {
     "end_time": "2024-07-23T12:35:07.726992Z",
     "start_time": "2024-07-23T12:35:07.685577Z"
    }
   },
   "source": [
    "%cd \"D:\\\\Repo\\\\siunits\"\n",
    "\n",
    "import warnings\n",
    "warnings.filterwarnings('ignore')\n",
    "\n",
    "from siunits import SI, ComplexUnit, Unit\n",
    "from siunits.dimension import Dimension"
   ],
   "outputs": [
    {
     "name": "stdout",
     "output_type": "stream",
     "text": [
      "D:\\Repo\\siunits\n"
     ]
    },
    {
     "name": "stderr",
     "output_type": "stream",
     "text": [
      "D:\\Repo\\siunits\\.venv\\Lib\\site-packages\\IPython\\core\\magics\\osm.py:417: UserWarning: This is now an optional IPython functionality, setting dhist requires you to install the `pickleshare` library.\n",
      "  self.shell.db['dhist'] = compress_dhist(dhist)[-100:]\n"
     ]
    }
   ],
   "execution_count": 1
  },
  {
   "cell_type": "code",
   "metadata": {
    "ExecuteTime": {
     "end_time": "2024-07-23T12:35:07.737188Z",
     "start_time": "2024-07-23T12:35:07.728727Z"
    }
   },
   "source": [
    "# c = ComplexUnit({SI.m: 1, SI.s: -1, SI.kg: 2})\n",
    "c = SI.m / SI.s * SI.kg**2\n",
    "print(c)\n",
    "c"
   ],
   "outputs": [
    {
     "name": "stdout",
     "output_type": "stream",
     "text": [
      "kg^2 ⋅ m / s\n"
     ]
    },
    {
     "data": {
      "text/plain": [
       "ComplexUnit(kg^2 ⋅ m / s, offset=0, multiplier=1)"
      ],
      "text/latex": "$\\mathrm {\\dfrac{kg^2 \\cdot m}{s}}$"
     },
     "execution_count": 2,
     "metadata": {},
     "output_type": "execute_result"
    }
   ],
   "execution_count": 2
  },
  {
   "cell_type": "code",
   "metadata": {
    "ExecuteTime": {
     "end_time": "2024-07-23T12:35:07.746394Z",
     "start_time": "2024-07-23T12:35:07.738424Z"
    }
   },
   "source": [
    "c2 = SI.kg ** 2\n",
    "print(c2)\n",
    "c2"
   ],
   "outputs": [
    {
     "name": "stdout",
     "output_type": "stream",
     "text": [
      "kg^2\n"
     ]
    },
    {
     "data": {
      "text/plain": [
       "ComplexUnit(kg^2, offset=0, multiplier=1)"
      ],
      "text/latex": "$\\mathrm {kg^2}$"
     },
     "execution_count": 3,
     "metadata": {},
     "output_type": "execute_result"
    }
   ],
   "execution_count": 3
  },
  {
   "cell_type": "code",
   "metadata": {
    "ExecuteTime": {
     "end_time": "2024-07-23T12:35:07.754012Z",
     "start_time": "2024-07-23T12:35:07.748914Z"
    }
   },
   "source": [
    "c3 = SI.kg ** -2\n",
    "print(c3)\n",
    "c3"
   ],
   "outputs": [
    {
     "name": "stdout",
     "output_type": "stream",
     "text": [
      "1 / kg^2\n"
     ]
    },
    {
     "data": {
      "text/plain": [
       "ComplexUnit(1 / kg^2, offset=0, multiplier=1)"
      ],
      "text/latex": "$\\mathrm {\\dfrac{1}{kg^2}}$"
     },
     "execution_count": 4,
     "metadata": {},
     "output_type": "execute_result"
    }
   ],
   "execution_count": 4
  },
  {
   "cell_type": "code",
   "metadata": {
    "ExecuteTime": {
     "end_time": "2024-07-23T12:35:07.761329Z",
     "start_time": "2024-07-23T12:35:07.755233Z"
    }
   },
   "source": [
    "SI.kg"
   ],
   "outputs": [
    {
     "data": {
      "text/plain": [
       "Unit('kg', Dimension[M], offset=0, multiplier=1)"
      ],
      "text/latex": "$\\mathrm {kg}$"
     },
     "execution_count": 5,
     "metadata": {},
     "output_type": "execute_result"
    }
   ],
   "execution_count": 5
  },
  {
   "cell_type": "code",
   "metadata": {
    "ExecuteTime": {
     "end_time": "2024-07-23T12:35:07.773817Z",
     "start_time": "2024-07-23T12:35:07.765475Z"
    }
   },
   "source": [
    "SI.kg.dimension"
   ],
   "outputs": [
    {
     "data": {
      "text/plain": [
       "Dimension(length=0, mass=1, time=0, current=0, temperature=0, amount=0, intensity=0)"
      ],
      "text/latex": "$\\mathrm{Dimension\\left[ M \\right]}$"
     },
     "execution_count": 6,
     "metadata": {},
     "output_type": "execute_result"
    }
   ],
   "execution_count": 6
  },
  {
   "cell_type": "code",
   "metadata": {
    "ExecuteTime": {
     "end_time": "2024-07-23T12:35:07.782765Z",
     "start_time": "2024-07-23T12:35:07.775011Z"
    }
   },
   "source": [
    "u = Unit(\"u_a\", Dimension(1, 3, 2, -1, -5))\n",
    "u2 = Unit(\"u_b\", Dimension(-1, -3, -2, -1, -5))\n",
    "u3 = Unit(\"u_c\", Dimension(1, 3, 2, 1, 5))"
   ],
   "outputs": [],
   "execution_count": 7
  },
  {
   "cell_type": "code",
   "metadata": {
    "ExecuteTime": {
     "end_time": "2024-07-23T12:35:07.789994Z",
     "start_time": "2024-07-23T12:35:07.782765Z"
    }
   },
   "source": [
    "print(u.dimension)\n",
    "u.dimension"
   ],
   "outputs": [
    {
     "name": "stdout",
     "output_type": "stream",
     "text": [
      "Dimension[L ⋅ M^3 ⋅ T^2 / I ⋅ Θ^5]\n"
     ]
    },
    {
     "data": {
      "text/plain": [
       "Dimension(length=1, mass=3, time=2, current=-1, temperature=-5, amount=0, intensity=0)"
      ],
      "text/latex": "$\\mathrm{Dimension\\left[ \\dfrac{L \\cdot M^3 \\cdot T^2}{I \\cdot \\theta^5} \\right]}$"
     },
     "execution_count": 8,
     "metadata": {},
     "output_type": "execute_result"
    }
   ],
   "execution_count": 8
  },
  {
   "cell_type": "code",
   "metadata": {
    "ExecuteTime": {
     "end_time": "2024-07-23T12:35:07.798077Z",
     "start_time": "2024-07-23T12:35:07.791329Z"
    }
   },
   "source": [
    "print(u2.dimension)\n",
    "u2.dimension"
   ],
   "outputs": [
    {
     "name": "stdout",
     "output_type": "stream",
     "text": [
      "Dimension[1 / L ⋅ M^3 ⋅ T^2 ⋅ I ⋅ Θ^5]\n"
     ]
    },
    {
     "data": {
      "text/plain": [
       "Dimension(length=-1, mass=-3, time=-2, current=-1, temperature=-5, amount=0, intensity=0)"
      ],
      "text/latex": "$\\mathrm{Dimension\\left[ \\dfrac{1}{L \\cdot M^3 \\cdot T^2 \\cdot I \\cdot \\theta^5} \\right]}$"
     },
     "execution_count": 9,
     "metadata": {},
     "output_type": "execute_result"
    }
   ],
   "execution_count": 9
  },
  {
   "cell_type": "code",
   "metadata": {
    "ExecuteTime": {
     "end_time": "2024-07-23T12:35:07.804523Z",
     "start_time": "2024-07-23T12:35:07.799083Z"
    }
   },
   "source": [
    "print(u3.dimension)\n",
    "u3.dimension"
   ],
   "outputs": [
    {
     "name": "stdout",
     "output_type": "stream",
     "text": [
      "Dimension[L ⋅ M^3 ⋅ T^2 ⋅ I ⋅ Θ^5]\n"
     ]
    },
    {
     "data": {
      "text/plain": [
       "Dimension(length=1, mass=3, time=2, current=1, temperature=5, amount=0, intensity=0)"
      ],
      "text/latex": "$\\mathrm{Dimension\\left[ L \\cdot M^3 \\cdot T^2 \\cdot I \\cdot \\theta^5 \\right]}$"
     },
     "execution_count": 10,
     "metadata": {},
     "output_type": "execute_result"
    }
   ],
   "execution_count": 10
  },
  {
   "cell_type": "code",
   "metadata": {
    "ExecuteTime": {
     "end_time": "2024-07-23T12:35:07.831355Z",
     "start_time": "2024-07-23T12:35:07.825624Z"
    }
   },
   "source": [
    "print(Dimension())\n",
    "Dimension()"
   ],
   "outputs": [
    {
     "name": "stdout",
     "output_type": "stream",
     "text": [
      "Dimension[1]\n"
     ]
    },
    {
     "data": {
      "text/plain": [
       "Dimension(length=0, mass=0, time=0, current=0, temperature=0, amount=0, intensity=0)"
      ],
      "text/latex": "$\\mathrm{Dimension\\left[ 1 \\right]}$"
     },
     "execution_count": 11,
     "metadata": {},
     "output_type": "execute_result"
    }
   ],
   "execution_count": 11
  },
  {
   "cell_type": "code",
   "metadata": {
    "ExecuteTime": {
     "end_time": "2024-07-23T12:35:07.890192Z",
     "start_time": "2024-07-23T12:35:07.886179Z"
    }
   },
   "source": [
    "u4 = Unit(\"u_{12}^5\", dimension=Dimension())\n",
    "u4"
   ],
   "outputs": [
    {
     "data": {
      "text/plain": [
       "Unit('u_{12}^5', Dimension[1], offset=0, multiplier=1)"
      ],
      "text/latex": "$\\mathrm {u_{12}^5}$"
     },
     "execution_count": 12,
     "metadata": {},
     "output_type": "execute_result"
    }
   ],
   "execution_count": 12
  },
  {
   "cell_type": "code",
   "metadata": {
    "ExecuteTime": {
     "end_time": "2024-07-23T12:35:07.982Z",
     "start_time": "2024-07-23T12:35:07.976763Z"
    }
   },
   "source": [
    "print(u4)"
   ],
   "outputs": [
    {
     "name": "stdout",
     "output_type": "stream",
     "text": [
      "u_{12}^5\n"
     ]
    }
   ],
   "execution_count": 13
  },
  {
   "cell_type": "code",
   "metadata": {
    "ExecuteTime": {
     "end_time": "2024-07-23T12:35:08.055002Z",
     "start_time": "2024-07-23T12:35:08.052001Z"
    }
   },
   "source": [],
   "outputs": [],
   "execution_count": 13
  }
 ],
 "metadata": {
  "kernelspec": {
   "display_name": ".venv",
   "language": "python",
   "name": "python3"
  },
  "language_info": {
   "codemirror_mode": {
    "name": "ipython",
    "version": 3
   },
   "file_extension": ".py",
   "mimetype": "text/x-python",
   "name": "python",
   "nbconvert_exporter": "python",
   "pygments_lexer": "ipython3",
   "version": "3.11.6"
  }
 },
 "nbformat": 4,
 "nbformat_minor": 2
}
