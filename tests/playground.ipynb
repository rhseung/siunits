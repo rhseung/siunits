{
 "cells": [
  {
   "cell_type": "code",
   "id": "initial_id",
   "metadata": {
    "collapsed": true,
    "ExecuteTime": {
     "end_time": "2024-08-13T03:06:15.666460Z",
     "start_time": "2024-08-13T03:06:15.054953Z"
    }
   },
   "source": [
    "import siunits as u\n",
    "from siunits.predefined import *"
   ],
   "outputs": [],
   "execution_count": 1
  },
  {
   "metadata": {
    "ExecuteTime": {
     "end_time": "2024-08-13T03:06:18.160934Z",
     "start_time": "2024-08-13T03:06:18.151090Z"
    }
   },
   "cell_type": "code",
   "source": "m",
   "id": "ea18739ed7f13a56",
   "outputs": [
    {
     "data": {
      "text/plain": [
       "<Unit[L] 'm'>"
      ],
      "text/latex": "$\\mathrm {m}$"
     },
     "execution_count": 2,
     "metadata": {},
     "output_type": "execute_result"
    }
   ],
   "execution_count": 2
  },
  {
   "metadata": {
    "ExecuteTime": {
     "end_time": "2024-08-13T03:06:32.728257Z",
     "start_time": "2024-08-13T03:06:32.715753Z"
    }
   },
   "cell_type": "code",
   "source": "kg * m / s**2",
   "id": "69070316c7104c79",
   "outputs": [
    {
     "data": {
      "text/plain": [
       "<ComplexUnit[L ⋅ M / T^2] 'kg ⋅ m / s^2'>"
      ],
      "text/latex": "$\\mathrm {\\dfrac{kg \\cdot m}{s^{2}}}$"
     },
     "execution_count": 3,
     "metadata": {},
     "output_type": "execute_result"
    }
   ],
   "execution_count": 3
  },
  {
   "metadata": {},
   "cell_type": "code",
   "outputs": [],
   "execution_count": null,
   "source": "",
   "id": "7e61a6d95402a9a2"
  }
 ],
 "metadata": {
  "kernelspec": {
   "display_name": "Python 3",
   "language": "python",
   "name": "python3"
  },
  "language_info": {
   "codemirror_mode": {
    "name": "ipython",
    "version": 2
   },
   "file_extension": ".py",
   "mimetype": "text/x-python",
   "name": "python",
   "nbconvert_exporter": "python",
   "pygments_lexer": "ipython2",
   "version": "2.7.6"
  }
 },
 "nbformat": 4,
 "nbformat_minor": 5
}
